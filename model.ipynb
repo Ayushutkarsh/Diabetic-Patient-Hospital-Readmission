{
 "cells": [
  {
   "cell_type": "markdown",
   "metadata": {},
   "source": [
    "# Predicting patient readmission at hospitals\n",
    "\n",
    "*Data Source* : Diabetes 130-US hospitals for years 1999-2008 Data Set ([link](https://archive.ics.uci.edu/ml/datasets/diabetes+130-us+hospitals+for+years+1999-2008#))"
   ]
  },
  {
   "cell_type": "code",
   "execution_count": 1,
   "metadata": {},
   "outputs": [
    {
     "name": "stdout",
     "output_type": "stream",
     "text": [
      "Requirement already satisfied: pandas in /home/aagina/anaconda3/lib/python3.6/site-packages (0.22.0)\n",
      "Requirement already satisfied: numpy in /home/aagina/anaconda3/lib/python3.6/site-packages (1.14.0)\n",
      "Requirement already satisfied: scipy in /home/aagina/anaconda3/lib/python3.6/site-packages (1.0.0)\n",
      "Requirement already satisfied: statistics in /home/aagina/anaconda3/lib/python3.6/site-packages (1.0.3.5)\n",
      "Requirement already satisfied: matplotlib in /home/aagina/anaconda3/lib/python3.6/site-packages (2.1.2)\n",
      "Requirement already satisfied: sklearn in /home/aagina/anaconda3/lib/python3.6/site-packages (0.0)\n",
      "Requirement already satisfied: IPython in /home/aagina/anaconda3/lib/python3.6/site-packages (6.2.1)\n",
      "Requirement already satisfied: imblearn in /home/aagina/anaconda3/lib/python3.6/site-packages (0.0)\n",
      "Requirement already satisfied: graphviz in /home/aagina/anaconda3/lib/python3.6/site-packages (0.8.3)\n",
      "Requirement already satisfied: python-dateutil>=2 in /home/aagina/anaconda3/lib/python3.6/site-packages (from pandas) (2.6.1)\n",
      "Requirement already satisfied: pytz>=2011k in /home/aagina/anaconda3/lib/python3.6/site-packages (from pandas) (2017.3)\n",
      "Requirement already satisfied: docutils>=0.3 in /home/aagina/anaconda3/lib/python3.6/site-packages (from statistics) (0.14)\n",
      "Requirement already satisfied: six>=1.10 in /home/aagina/anaconda3/lib/python3.6/site-packages (from matplotlib) (1.11.0)\n",
      "Requirement already satisfied: cycler>=0.10 in /home/aagina/anaconda3/lib/python3.6/site-packages (from matplotlib) (0.10.0)\n",
      "Requirement already satisfied: pyparsing!=2.0.4,!=2.1.2,!=2.1.6,>=2.0.1 in /home/aagina/anaconda3/lib/python3.6/site-packages (from matplotlib) (2.2.0)\n",
      "Requirement already satisfied: scikit-learn in /home/aagina/anaconda3/lib/python3.6/site-packages (from sklearn) (0.19.1)\n",
      "Requirement already satisfied: setuptools>=18.5 in /home/aagina/anaconda3/lib/python3.6/site-packages (from IPython) (38.4.0)\n",
      "Requirement already satisfied: jedi>=0.10 in /home/aagina/anaconda3/lib/python3.6/site-packages (from IPython) (0.11.1)\n",
      "Requirement already satisfied: decorator in /home/aagina/anaconda3/lib/python3.6/site-packages (from IPython) (4.2.1)\n",
      "Requirement already satisfied: pickleshare in /home/aagina/anaconda3/lib/python3.6/site-packages (from IPython) (0.7.4)\n",
      "Requirement already satisfied: simplegeneric>0.8 in /home/aagina/anaconda3/lib/python3.6/site-packages (from IPython) (0.8.1)\n",
      "Requirement already satisfied: traitlets>=4.2 in /home/aagina/anaconda3/lib/python3.6/site-packages (from IPython) (4.3.2)\n",
      "Requirement already satisfied: prompt_toolkit<2.0.0,>=1.0.4 in /home/aagina/anaconda3/lib/python3.6/site-packages (from IPython) (1.0.15)\n",
      "Requirement already satisfied: pygments in /home/aagina/anaconda3/lib/python3.6/site-packages (from IPython) (2.2.0)\n",
      "Requirement already satisfied: pexpect in /home/aagina/anaconda3/lib/python3.6/site-packages (from IPython) (4.3.1)\n",
      "Requirement already satisfied: imbalanced-learn in /home/aagina/anaconda3/lib/python3.6/site-packages (from imblearn) (0.3.3)\n",
      "Requirement already satisfied: parso==0.1.* in /home/aagina/anaconda3/lib/python3.6/site-packages (from jedi>=0.10->IPython) (0.1.1)\n",
      "Requirement already satisfied: ipython_genutils in /home/aagina/anaconda3/lib/python3.6/site-packages (from traitlets>=4.2->IPython) (0.2.0)\n",
      "Requirement already satisfied: wcwidth in /home/aagina/anaconda3/lib/python3.6/site-packages (from prompt_toolkit<2.0.0,>=1.0.4->IPython) (0.1.7)\n"
     ]
    }
   ],
   "source": [
    "!pip install pandas numpy scipy statistics matplotlib sklearn IPython imblearn graphviz"
   ]
  },
  {
   "cell_type": "code",
   "execution_count": 2,
   "metadata": {},
   "outputs": [],
   "source": [
    "import IPython\n",
    "import pandas as pd\n",
    "import numpy as np\n",
    "from statistics import mode\n",
    "import matplotlib.pyplot as plt\n",
    "from sklearn.preprocessing import MinMaxScaler"
   ]
  },
  {
   "cell_type": "code",
   "execution_count": 3,
   "metadata": {},
   "outputs": [],
   "source": [
    "df_ori = pd.read_csv(\"diabetic_data.csv\")\n"
   ]
  },
  {
   "cell_type": "markdown",
   "metadata": {},
   "source": [
    "### Features:\n",
    "- age\n",
    "- gender\n",
    "- race\n",
    "- diagnosis ( primary, secondary and other - ICD codes)\n",
    "- Glucose serum , A1C test results\n",
    "- medications used ( Ex : Insulin, Acetohexamide, Troglitazone, etc )\n",
    "- ... and some more\n",
    "\n",
    "### Data Pre-processing steps Overview\n",
    "- Dropped unnecessary features and records\n",
    "- Created new features (from existing features)\n",
    "- Collapsed a few categorical variables into less number of categories\n",
    "- Converted categorical variables into numerical\n",
    "- Applied Log Transformation and Standardization to skewed features\n",
    "- Removal of outliers\n",
    "- Collapsed multiple encounters of a given patient\n",
    "- Added interaction features identified from correlation matrix"
   ]
  },
  {
   "cell_type": "code",
   "execution_count": 4,
   "metadata": {},
   "outputs": [],
   "source": [
    "#make a copy \n",
    "df = df_ori.copy(deep=True)\n"
   ]
  },
  {
   "cell_type": "markdown",
   "metadata": {},
   "source": [
    "### Dropped Features\n",
    "\n",
    "- _Weight_ is **missing** in over **98%** records. Owing to the poor interpretability of missing values and little predictive generalizability to other patients, we decided to drop it.\n",
    "- **Nearly half** of the records are missing _Payer code_ and _Medical Specialty_ of treating physician, so we dropped these features too."
   ]
  },
  {
   "cell_type": "code",
   "execution_count": 5,
   "metadata": {},
   "outputs": [],
   "source": [
    "df = df.drop(['weight','payer_code','medical_specialty'], axis = 1)\n"
   ]
  },
  {
   "cell_type": "markdown",
   "metadata": {},
   "source": [
    "### Dropped records\n",
    "\n",
    "- Primary (diag_1), Secondary (diag_2) and Additional (diag_3) diagnoses were have very few missing values. Technically, if all three are missing, that’s bad data. So we only drop those records where all three diagnoses are missing.\n",
    "\n",
    "- Gender has only 3 missing or invalid values so we decided to drop these records.\n",
    "\n",
    "- Also, one more cleaning step that depends on understanding the data and some common sense: since we are trying to predict readmissions, those patients who died during this hospital admission, have zero probability of readmission. So we should remove those records (discharge_disposition = 11)."
   ]
  },
  {
   "cell_type": "code",
   "execution_count": 6,
   "metadata": {},
   "outputs": [],
   "source": [
    "drop_Idx = set(df[(df['diag_1'] == '?') & (df['diag_2'] == '?') & (df['diag_3'] == '?')].index)\n",
    "drop_Idx = drop_Idx.union(set(df['gender'][df['gender'] == 'Unknown/Invalid'].index))\n",
    "drop_Idx = drop_Idx.union(set(df[df['discharge_disposition_id'] == 11].index))\n",
    "new_Idx = list(set(df.index) - set(drop_Idx))\n",
    "df = df.iloc[new_Idx]"
   ]
  },
  {
   "cell_type": "markdown",
   "metadata": {},
   "source": [
    "### Dropping insignificant fields\n",
    "\n",
    "- We also noticed that for two variables (drugs named citoglipton and examide), all records have the same value. So essentially these cannot provide any interpretive or discriminatory information for predicting readmission, and we dropped these columns as well."
   ]
  },
  {
   "cell_type": "code",
   "execution_count": 7,
   "metadata": {},
   "outputs": [],
   "source": [
    "df = df.drop(['citoglipton', 'examide'], axis = 1)"
   ]
  },
  {
   "cell_type": "markdown",
   "metadata": {},
   "source": [
    "## Creating new features\n",
    "\n",
    "This is highly subjective, and partly depends on a knowledge of healthcare services, and making sense of the potential relationships between features. There are perhaps thousands of ways to try here. We tried some.\n",
    "\n",
    "\n",
    "### Service Utilization :\n",
    "The data contains variables for number of inpatient (admissions), emergency room visits and outpatient visits for a given patient in the previous one year. These are measures of how much hospital/clinic services a person has used in the past year. We added these three to create a new variable called service utilization."
   ]
  },
  {
   "cell_type": "code",
   "execution_count": 8,
   "metadata": {},
   "outputs": [],
   "source": [
    "df['service_utilization'] = df['number_outpatient'] + df['number_emergency'] + df['number_inpatient']"
   ]
  },
  {
   "cell_type": "markdown",
   "metadata": {},
   "source": [
    "### No. of medications changed :\n",
    "The dataset contains 23 features for 23 drugs which indicate for each of these, whether a change in that medication was made or not. We decided to count how many changes were made in total for each patient, and declared that a new feature. \n",
    "\n",
    "**Motivation** :\n",
    "- Medication change for diabetics upon admission has been shown by previous research to be associated with lower readmission rates.\n",
    "- Another reasoning here was to both simplify the model and possibly discover a relationship with number of changes regardless of which drug was changed."
   ]
  },
  {
   "cell_type": "code",
   "execution_count": 9,
   "metadata": {},
   "outputs": [],
   "source": [
    "keys = ['metformin', 'repaglinide', 'nateglinide', 'chlorpropamide', 'glimepiride', 'glipizide', 'glyburide', 'pioglitazone', 'rosiglitazone', 'acarbose', 'miglitol', 'insulin', 'glyburide-metformin', 'tolazamide', 'metformin-pioglitazone','metformin-rosiglitazone', 'glimepiride-pioglitazone', 'glipizide-metformin', 'troglitazone', 'tolbutamide', 'acetohexamide']\n",
    "for col in keys:\n",
    "    colname = str(col) + 'temp'\n",
    "    df[colname] = df[col].apply(lambda x: 0 if (x == 'No' or x == 'Steady') else 1)\n",
    "df['numchange'] = 0\n",
    "for col in keys:\n",
    "    colname = str(col) + 'temp'\n",
    "    df['numchange'] = df['numchange'] + df[colname]\n",
    "    del df[colname]"
   ]
  },
  {
   "cell_type": "code",
   "execution_count": 10,
   "metadata": {},
   "outputs": [
    {
     "data": {
      "text/plain": [
       "0    72868\n",
       "1    25832\n",
       "2     1308\n",
       "3      107\n",
       "4        5\n",
       "Name: numchange, dtype: int64"
      ]
     },
     "execution_count": 10,
     "metadata": {},
     "output_type": "execute_result"
    }
   ],
   "source": [
    "df['numchange'].value_counts()"
   ]
  },
  {
   "cell_type": "code",
   "execution_count": 11,
   "metadata": {},
   "outputs": [],
   "source": [
    "#change\n",
    "df['change'] = df['change'].replace('Ch', 1)\n",
    "df['change'] = df['change'].replace('No', 0)\n",
    "#gender\n",
    "df['gender'] = df['gender'].replace('Male', 1)\n",
    "df['gender'] = df['gender'].replace('Female', 0)\n",
    "#race\n",
    "df['race'] = df['race'].replace('?', 'Other')\n",
    "#df['race'] = df['race'].replace('Other', 0)\n",
    "#df['race'] = df['race'].replace('AfricanAmerican', 1)\n",
    "#df['race'] = df['race'].replace('Asian', 2)\n",
    "#df['race'] = df['race'].replace('Caucasian', 3)\n",
    "#df['race'] = df['race'].replace('Hispanic', 4)\n",
    "#diabetesMed\n",
    "df['diabetesMed'] = df['diabetesMed'].replace('Yes', 1)\n",
    "df['diabetesMed'] = df['diabetesMed'].replace('No', 0)\n",
    "# keys is the same as before\n",
    "for col in keys:\n",
    "    df[col] = df[col].replace('No', 0)\n",
    "    df[col] = df[col].replace('Steady', 1)\n",
    "    df[col] = df[col].replace('Up', 1)\n",
    "    df[col] = df[col].replace('Down', 1)\n"
   ]
  },
  {
   "cell_type": "markdown",
   "metadata": {},
   "source": [
    "### No. of medications used :\n",
    "Since the no. of medications used may indicate severity of their condition and/or the intensity of care, we decided to create another feature."
   ]
  },
  {
   "cell_type": "code",
   "execution_count": 12,
   "metadata": {},
   "outputs": [],
   "source": [
    "df['nummed'] = 0\n",
    "for col in keys:\n",
    "    df['nummed'] = df['nummed'] + df[col]"
   ]
  },
  {
   "cell_type": "markdown",
   "metadata": {},
   "source": [
    "### Categorization of diagnoses :\n",
    "The dataset contained upto three diagnoses for a given patient (primary, secondary and additional). However, each of these had 700–900 unique ICD codes and it is extremely difficult to include them in the model and interpret meaningfully. Therefore, we collapsed these diagnosis codes into 9 disease categories. These 9 categories include _Circulatory_, _Respiratory_, _Digestive_, _Diabetes_, _Injury_, etc."
   ]
  },
  {
   "cell_type": "code",
   "execution_count": 13,
   "metadata": {},
   "outputs": [],
   "source": [
    "# create a duplicate of the diagnosis column\n",
    "df['level1_diag1'] = df['diag_1']\n",
    "# disease codes starting with V or E are in “other” category; so recode them to 0\n",
    "df.loc[df['diag_1'].str.contains('V'), ['level1_diag1']] = 0\n",
    "df.loc[df['diag_1'].str.contains('E'), ['level1_diag1']] = 0\n",
    "# also replace the unknown values with -1\n",
    "df['level1_diag1'] = df['level1_diag1'].replace('?', -1)\n",
    "# iterate and recode disease codes between certain ranges to certain categories\n",
    "df['level1_diag1'] = df['level1_diag1'].astype(float)\n",
    "for index, row in df.iterrows():\n",
    "    if (row['level1_diag1'] >= 390 and row['level1_diag1'] < 460) or (np.floor(row['level1_diag1']) == 785):\n",
    "        df.loc[index, 'level1_diag1'] = 1\n",
    "    elif (row['level1_diag1'] >= 460 and row['level1_diag1'] < 520) or (np.floor(row['level1_diag1']) == 786):\n",
    "        df.loc[index, 'level1_diag1'] = 2\n",
    "    elif (row['level1_diag1'] >= 520 and row['level1_diag1'] < 580) or (np.floor(row['level1_diag1']) == 787):\n",
    "        df.loc[index, 'level1_diag1'] = 3\n",
    "    elif (np.floor(row['level1_diag1']) == 250):\n",
    "        df.loc[index, 'level1_diag1'] = 4\n",
    "    elif (row['level1_diag1'] >= 800 and row['level1_diag1'] < 1000):\n",
    "        df.loc[index, 'level1_diag1'] = 5\n",
    "    elif (row['level1_diag1'] >= 710 and row['level1_diag1'] < 740):\n",
    "        df.loc[index, 'level1_diag1'] = 6\n",
    "    elif (row['level1_diag1'] >= 580 and row['level1_diag1'] < 630) or (np.floor(row['level1_diag1']) == 788):\n",
    "        df.loc[index, 'level1_diag1'] = 7\n",
    "    elif (row['level1_diag1'] >= 140 and row['level1_diag1'] < 240):\n",
    "        df.loc[index, 'level1_diag1'] = 8\n",
    "    else:\n",
    "        df.loc[index, 'level1_diag1'] = 0\n"
   ]
  },
  {
   "cell_type": "code",
   "execution_count": 14,
   "metadata": {},
   "outputs": [],
   "source": [
    "#change dtype of level1_diag1\n",
    "df['level1_diag1'] = df['level1_diag1'].astype(float)\n",
    "\n",
    "#drop diag_1, diag_2, diag_3\n",
    "df = df.drop(['diag_1', 'diag_2', 'diag_3'], axis = 1)"
   ]
  },
  {
   "cell_type": "code",
   "execution_count": 15,
   "metadata": {},
   "outputs": [],
   "source": [
    "df.to_csv('./diabetes_data_preprocessed.csv')"
   ]
  },
  {
   "cell_type": "markdown",
   "metadata": {},
   "source": [
    "### Collapsing other variables :\n",
    "Just like diagnoses, there were quite a few categories for admission source, admission type and discharge disposition. We collapsed these variables into fewer categories where it made sense."
   ]
  },
  {
   "cell_type": "code",
   "execution_count": 16,
   "metadata": {},
   "outputs": [],
   "source": [
    "df['admission_type_id'] = df['admission_type_id'].replace(2,1)\n",
    "df['admission_type_id'] = df['admission_type_id'].replace(7,1)\n",
    "df['admission_type_id'] = df['admission_type_id'].replace(6,5)\n",
    "df['admission_type_id'] = df['admission_type_id'].replace(8,5)"
   ]
  },
  {
   "cell_type": "code",
   "execution_count": 17,
   "metadata": {},
   "outputs": [],
   "source": [
    "#Discharge to specific type of hospital\n",
    "df['discharge_disposition_id'] = df['discharge_disposition_id'].replace(2,2)\n",
    "df['discharge_disposition_id'] = df['discharge_disposition_id'].replace(3,2)\n",
    "df['discharge_disposition_id'] = df['discharge_disposition_id'].replace(4,2)\n",
    "df['discharge_disposition_id'] = df['discharge_disposition_id'].replace(22,2)\n",
    "df['discharge_disposition_id'] = df['discharge_disposition_id'].replace(23,2)\n",
    "df['discharge_disposition_id'] = df['discharge_disposition_id'].replace(24,2)\n",
    "df['discharge_disposition_id'] = df['discharge_disposition_id'].replace(29,2)\n",
    "\n",
    "#Discharge to other hospital\n",
    "df['discharge_disposition_id'] = df['discharge_disposition_id'].replace(5,3)\n",
    "df['discharge_disposition_id'] = df['discharge_disposition_id'].replace(16,3)\n",
    "df['discharge_disposition_id'] = df['discharge_disposition_id'].replace(27,3)\n",
    "df['discharge_disposition_id'] = df['discharge_disposition_id'].replace(28,3)\n",
    "df['discharge_disposition_id'] = df['discharge_disposition_id'].replace(30,3)\n",
    "\n",
    "#Discharge to same Hospital\n",
    "df['discharge_disposition_id'] = df['discharge_disposition_id'].replace(9,4)\n",
    "df['discharge_disposition_id'] = df['discharge_disposition_id'].replace(15,4)\n",
    "df['discharge_disposition_id'] = df['discharge_disposition_id'].replace(17,4)\n",
    "df['discharge_disposition_id'] = df['discharge_disposition_id'].replace(12,4)\n",
    "\n",
    "#Hospice\n",
    "df['discharge_disposition_id'] = df['discharge_disposition_id'].replace(6,5)\n",
    "df['discharge_disposition_id'] = df['discharge_disposition_id'].replace(8,5)\n",
    "df['discharge_disposition_id'] = df['discharge_disposition_id'].replace(13,5)\n",
    "df['discharge_disposition_id'] = df['discharge_disposition_id'].replace(14,5)\n",
    "\n",
    "#Expired\n",
    "df['discharge_disposition_id'] = df['discharge_disposition_id'].replace(11,6)\n",
    "df['discharge_disposition_id'] = df['discharge_disposition_id'].replace(19,6)\n",
    "df['discharge_disposition_id'] = df['discharge_disposition_id'].replace(20,6)\n",
    "df['discharge_disposition_id'] = df['discharge_disposition_id'].replace(21,6)\n",
    "\n",
    "#Others\n",
    "df['discharge_disposition_id'] = df['discharge_disposition_id'].replace(7,7)\n",
    "df['discharge_disposition_id'] = df['discharge_disposition_id'].replace(18,7)\n",
    "df['discharge_disposition_id'] = df['discharge_disposition_id'].replace(25,7)\n",
    "df['discharge_disposition_id'] = df['discharge_disposition_id'].replace(26,7)\n",
    "\n",
    "#Neonatal\n",
    "df['discharge_disposition_id'] = df['discharge_disposition_id'].replace(10,8)\n",
    "\n"
   ]
  },
  {
   "cell_type": "code",
   "execution_count": 18,
   "metadata": {},
   "outputs": [],
   "source": [
    "#Referrals\n",
    "df['admission_source_id'] = df['admission_source_id'].replace(1,1)\n",
    "df['admission_source_id'] = df['admission_source_id'].replace(2,1)\n",
    "df['admission_source_id'] = df['admission_source_id'].replace(3,1)\n",
    "\n",
    "#Transfers\n",
    "df['admission_source_id'] = df['admission_source_id'].replace(4,2)\n",
    "df['admission_source_id'] = df['admission_source_id'].replace(5,2)\n",
    "df['admission_source_id'] = df['admission_source_id'].replace(6,2)\n",
    "df['admission_source_id'] = df['admission_source_id'].replace(7,2)\n",
    "df['admission_source_id'] = df['admission_source_id'].replace(10,2)\n",
    "df['admission_source_id'] = df['admission_source_id'].replace(18,2)\n",
    "df['admission_source_id'] = df['admission_source_id'].replace(22,2)\n",
    "df['admission_source_id'] = df['admission_source_id'].replace(25,2)\n",
    "df['admission_source_id'] = df['admission_source_id'].replace(26,2)\n",
    "\n",
    "#Birth place\n",
    "df['admission_source_id'] = df['admission_source_id'].replace(23,3)\n",
    "df['admission_source_id'] = df['admission_source_id'].replace(24,3)\n",
    "\n",
    "#Birth Category\n",
    "df['admission_source_id'] = df['admission_source_id'].replace(11,4)\n",
    "df['admission_source_id'] = df['admission_source_id'].replace(12,4)\n",
    "df['admission_source_id'] = df['admission_source_id'].replace(13,4)\n",
    "df['admission_source_id'] = df['admission_source_id'].replace(14,4)\n",
    "\n",
    "# Court/Law Enforcement\n",
    "df['admission_source_id'] = df['admission_source_id'].replace(8,5)\n",
    "\n",
    "#Readmission\n",
    "df['admission_source_id'] = df['admission_source_id'].replace(19,6)\n",
    "\n",
    "#Unknown\n",
    "df['admission_source_id'] = df['admission_source_id'].replace(9,7)\n",
    "df['admission_source_id'] = df['admission_source_id'].replace(15,7)\n",
    "df['admission_source_id'] = df['admission_source_id'].replace(17,7)\n",
    "df['admission_source_id'] = df['admission_source_id'].replace(20,7)\n",
    "df['admission_source_id'] = df['admission_source_id'].replace(21,7)"
   ]
  },
  {
   "cell_type": "markdown",
   "metadata": {},
   "source": [
    "### Recoding some variables :\n",
    "The original dataset used string values for gender, race, medication change, and each of the 23 drugs used. To better fit those variables into our model, we interpret the variables to numeric binary variables to reflect their nature. For example, we encoded the “medication change” feature from “No” (no change) and “Ch” (changed) into 0 and 1."
   ]
  },
  {
   "cell_type": "code",
   "execution_count": 19,
   "metadata": {},
   "outputs": [],
   "source": [
    "df['change'] = df['change'].replace('Ch', 1)\n",
    "df['change'] = df['change'].replace('No', 0)\n",
    "df['gender'] = df['gender'].replace('Male', 1)\n",
    "df['gender'] = df['gender'].replace('Female', 0)\n",
    "df['diabetesMed'] = df['diabetesMed'].replace('Yes', 1)\n",
    "df['diabetesMed'] = df['diabetesMed'].replace('No', 0)\n",
    "# keys is the same as before\n",
    "for col in keys:\n",
    "    df[col] = df[col].replace('No', 0)\n",
    "    df[col] = df[col].replace('Steady', 1)\n",
    "    df[col] = df[col].replace('Up', 1)\n",
    "    df[col] = df[col].replace('Down', 1)"
   ]
  },
  {
   "cell_type": "code",
   "execution_count": 20,
   "metadata": {},
   "outputs": [],
   "source": [
    "df['A1Cresult'] = df['A1Cresult'].replace('>7', 1)\n",
    "df['A1Cresult'] = df['A1Cresult'].replace('>8', 1)\n",
    "df['A1Cresult'] = df['A1Cresult'].replace('Norm', 0)\n",
    "df['A1Cresult'] = df['A1Cresult'].replace('None', -99)\n",
    "df['max_glu_serum'] = df['max_glu_serum'].replace('>200', 1)\n",
    "df['max_glu_serum'] = df['max_glu_serum'].replace('>300', 1)\n",
    "df['max_glu_serum'] = df['max_glu_serum'].replace('Norm', 0)\n",
    "df['max_glu_serum'] = df['max_glu_serum'].replace('None', -99)"
   ]
  },
  {
   "cell_type": "code",
   "execution_count": 21,
   "metadata": {},
   "outputs": [],
   "source": [
    "df['readmitted'] = df['readmitted'].replace('>30', 0)\n",
    "df['readmitted'] = df['readmitted'].replace('<30', 1)\n",
    "df['readmitted'] = df['readmitted'].replace('NO', 0)\n",
    "\n"
   ]
  },
  {
   "cell_type": "markdown",
   "metadata": {},
   "source": [
    "### Dealing with age :\n",
    "The dataset only gives us age as 10 year categories, so we don’t know the exact age of each patient. We wanted to be able to see the effect of increasing age on readmission, even if in a crude way. To do that, we assume that age of the patient on average lies at the midpoint of the age category. For example, if the patient’s age category is 20–30 years, then we assume the age = 25 years."
   ]
  },
  {
   "cell_type": "code",
   "execution_count": 22,
   "metadata": {},
   "outputs": [],
   "source": [
    "age_dict = {'[0-10)':5, '[10-20)':15, '[20-30)':25, '[30-40)':35, '[40-50)':45, '[50-60)':55, '[60-70)':65, '[70-80)':75, '[80-90)':85, '[90-100)':95}"
   ]
  },
  {
   "cell_type": "code",
   "execution_count": 23,
   "metadata": {},
   "outputs": [],
   "source": [
    "\n",
    "df['age'] = df.age.map(age_dict)\n",
    "df['age'] = df['age'].astype('int64')\n",
    "              "
   ]
  },
  {
   "cell_type": "markdown",
   "metadata": {},
   "source": [
    "### Log Transformation :\n",
    "A preliminary analysis of our numerical features revealed that many of these were highly skewed which would impact standardization.\n",
    "Features such as _No. of medications_, _No. of outpatient visits_ and _No. of emergency admissions_ has high skew."
   ]
  },
  {
   "cell_type": "code",
   "execution_count": 24,
   "metadata": {},
   "outputs": [],
   "source": [
    "import scipy as sp\n",
    "\n",
    "df[\"num_medications\" + \"_log1p\"] = np.log1p(df[\"num_medications\"])\n",
    "df[\"number_outpatient\" + \"_log1p\"] = np.log1p(df[\"number_outpatient\"])\n",
    "df[\"number_inpatient\" + \"_log1p\"] = np.log1p(df[\"number_inpatient\"])\n",
    "df[\"number_emergency\" + \"_log1p\"] = np.log1p(df[\"number_emergency\"])\n",
    "df[\"service_utilization\" + \"_log1p\"] = np.log1p(df[\"service_utilization\"])\n",
    "numerics = np.array([\"num_medications_log1p\", \"number_outpatient_log1p\",\"number_inpatient_log1p\", \"number_emergency_log1p\", \"service_utilization_log1p\"])\n"
   ]
  },
  {
   "cell_type": "markdown",
   "metadata": {},
   "source": [
    "### Standardization :\n",
    "Since we had used log transformation to ensure that the numeric variables had a Gaussian-like or normal distribution, we decided to standardize our numerical features.\n",
    "\n",
    "<img src=\"files/standard.png\">"
   ]
  },
  {
   "cell_type": "code",
   "execution_count": 25,
   "metadata": {},
   "outputs": [],
   "source": [
    "def standardize(raw_data):\n",
    "    return ((raw_data - np.mean(raw_data, axis = 0)) / np.std(raw_data, axis = 0))\n",
    "# numerics is a list of all numeric features\n",
    "df[numerics] = standardize(df[numerics])\n"
   ]
  },
  {
   "cell_type": "markdown",
   "metadata": {},
   "source": [
    "### Removal of Outliers :\n",
    "Anything within 3 SDs on either side of the mean would include 99.7% of our data and the remaining 0.3% we treated as outliers. Using this logic, we restricted our data to within 3 SDs on either side from the mean.\n",
    "\n",
    "<img src=\"files/gausian.png\">"
   ]
  },
  {
   "cell_type": "code",
   "execution_count": 26,
   "metadata": {},
   "outputs": [],
   "source": [
    "df = df[(np.abs(sp.stats.zscore(df[numerics])) < 3).all(axis=1)]"
   ]
  },
  {
   "cell_type": "markdown",
   "metadata": {},
   "source": [
    "### Collapsing of Multiple Encounters for same patient : \n",
    "We decided to use first encounters of patients with multiple encounters."
   ]
  },
  {
   "cell_type": "code",
   "execution_count": 27,
   "metadata": {},
   "outputs": [],
   "source": [
    "df = df.drop(['num_medications','number_outpatient','number_inpatient','number_emergency','service_utilization'],axis=1)\n",
    "df2 = df.drop_duplicates(subset= ['patient_nbr'], keep = 'first')\n",
    "df2 = df2.drop(['patient_nbr','encounter_id'], axis=1)"
   ]
  },
  {
   "cell_type": "markdown",
   "metadata": {},
   "source": [
    "### Interactions Terms : \n",
    "Variables can have interdependent effects on readmission. We can identify possible candidates for interaction terms by observing a correlation matrix of the predictor variables. "
   ]
  },
  {
   "cell_type": "code",
   "execution_count": 28,
   "metadata": {},
   "outputs": [],
   "source": [
    "interactionterms = [('num_medications_log1p','time_in_hospital'), ('num_medications_log1p','num_procedures'), ('time_in_hospital','num_lab_procedures'),\n",
    "('num_medications_log1p','num_lab_procedures'), ('num_medications_log1p','number_diagnoses'),\n",
    "('age','number_diagnoses'), ('change','num_medications_log1p'), ('number_diagnoses','time_in_hospital'), ('num_medications_log1p','numchange')]\n",
    " \n",
    "for inter in interactionterms:\n",
    "    name = inter[0] + '|' + inter[1]\n",
    "    df2[name] = df2[inter[0]] * df2[inter[1]]"
   ]
  },
  {
   "cell_type": "code",
   "execution_count": 29,
   "metadata": {},
   "outputs": [],
   "source": [
    "categorical_cols = [ 'level1_diag1', 'race', 'gender', 'admission_type_id', 'discharge_disposition_id', 'admission_source_id', 'max_glu_serum', 'A1Cresult' ]\n",
    "df_catagorical = pd.concat([pd.get_dummies(df2[col], drop_first=True, prefix=col) for col in categorical_cols], axis=1)\n"
   ]
  },
  {
   "cell_type": "code",
   "execution_count": 30,
   "metadata": {},
   "outputs": [],
   "source": [
    "df2 = df2.drop(categorical_cols, axis = 1)"
   ]
  },
  {
   "cell_type": "code",
   "execution_count": 31,
   "metadata": {},
   "outputs": [
    {
     "data": {
      "text/plain": [
       "(67685, 45)"
      ]
     },
     "execution_count": 31,
     "metadata": {},
     "output_type": "execute_result"
    }
   ],
   "source": [
    "df2.shape"
   ]
  },
  {
   "cell_type": "code",
   "execution_count": 32,
   "metadata": {},
   "outputs": [
    {
     "data": {
      "text/plain": [
       "(67685, 31)"
      ]
     },
     "execution_count": 32,
     "metadata": {},
     "output_type": "execute_result"
    }
   ],
   "source": [
    "df_catagorical.shape"
   ]
  },
  {
   "cell_type": "code",
   "execution_count": 33,
   "metadata": {},
   "outputs": [],
   "source": [
    "df3=df2.join(df_catagorical)\n"
   ]
  },
  {
   "cell_type": "code",
   "execution_count": 34,
   "metadata": {},
   "outputs": [
    {
     "data": {
      "text/plain": [
       "(67685, 76)"
      ]
     },
     "execution_count": 34,
     "metadata": {},
     "output_type": "execute_result"
    }
   ],
   "source": [
    "df3.shape"
   ]
  },
  {
   "cell_type": "code",
   "execution_count": 35,
   "metadata": {},
   "outputs": [],
   "source": [
    "df3.to_csv('./diabetes_data_final_features.csv')"
   ]
  },
  {
   "cell_type": "code",
   "execution_count": 36,
   "metadata": {},
   "outputs": [],
   "source": [
    "input_array =list(df3.columns.values)\n",
    "input_array.remove(\"readmitted\")"
   ]
  },
  {
   "cell_type": "code",
   "execution_count": 37,
   "metadata": {},
   "outputs": [],
   "source": [
    "train_input = df3[input_array]\n",
    "train_output = df3[\"readmitted\"]\n",
    "train_input_no_int = train_input.drop(['num_medications_log1p|time_in_hospital', 'num_medications_log1p|num_procedures', 'time_in_hospital|num_lab_procedures', 'num_medications_log1p|num_lab_procedures', 'num_medications_log1p|number_diagnoses', 'age|number_diagnoses', 'change|num_medications_log1p', 'number_diagnoses|time_in_hospital', 'num_medications_log1p|numchange'], axis = 1)"
   ]
  },
  {
   "cell_type": "markdown",
   "metadata": {
    "scrolled": true
   },
   "source": [
    "## Model Training"
   ]
  },
  {
   "cell_type": "markdown",
   "metadata": {},
   "source": [
    "### Data balancing :\n",
    "Data was highly imbalanced with respect to readmissions (only 10% records for 30-day readmissions), leading to high accuracy. Moreover, the high accuracy could be attributed not to the generalizability of our model to diverse patient records but to the baseline accuracy of 90%: predicting that no patient would be readmitted.We used synthetic minority over-sampling technique (SMOTE) to oversample our underrepresented class of readmissions and obtain equal representation of our overrepresented and underrepresented classes."
   ]
  },
  {
   "cell_type": "code",
   "execution_count": 39,
   "metadata": {
    "scrolled": true
   },
   "outputs": [
    {
     "name": "stdout",
     "output_type": "stream",
     "text": [
      "Original dataset shape Counter({0: 61701, 1: 5984})\n",
      "New dataset shape Counter({0: 61701, 1: 61701})\n"
     ]
    }
   ],
   "source": [
    "\n",
    "from imblearn.over_sampling import SMOTE\n",
    "from collections import Counter\n",
    "print('Original dataset shape {}'.format(Counter(train_output)))\n",
    "smt = SMOTE(random_state=20)\n",
    "train_input_new, train_output_new = smt.fit_sample(train_input, train_output)\n",
    "#train_input_no_int = train_input_new.drop(['num_medications_log1p|time_in_hospital', 'num_medications_log1p|num_procedures', 'time_in_hospital|num_lab_procedures', 'num_medications_log1p|num_lab_procedures', 'num_medications_log1p|number_diagnoses', 'age|number_diagnoses', 'change|num_medications_log1p', 'number_diagnoses|time_in_hospital', 'num_medications_log1p|numchange'], axis = 1)\n",
    "print('New dataset shape {}'.format(Counter(train_output_new)))"
   ]
  },
  {
   "cell_type": "code",
   "execution_count": 40,
   "metadata": {},
   "outputs": [],
   "source": [
    "train_input_small = train_input_new\n",
    "train_output_small = train_output_new\n"
   ]
  },
  {
   "cell_type": "code",
   "execution_count": 41,
   "metadata": {},
   "outputs": [
    {
     "name": "stdout",
     "output_type": "stream",
     "text": [
      "Cross Validation Score: 62.31%\n",
      "Dev Set score: 61.93%\n"
     ]
    }
   ],
   "source": [
    "from sklearn.model_selection import train_test_split\n",
    "from sklearn.linear_model import LogisticRegression\n",
    "from sklearn.model_selection import cross_val_score\n",
    "X_train, X_dev, Y_train, Y_dev = train_test_split(train_input_small, train_output_small, test_size=0.20, random_state=0)\n",
    "logreg = LogisticRegression(fit_intercept=True, penalty='l1')\n",
    "print(\"Cross Validation Score: {:.2%}\".format(np.mean(cross_val_score(logreg, X_train, Y_train, cv=10))))\n",
    "logreg.fit(X_train, Y_train)\n",
    "print(\"Dev Set score: {:.2%}\".format(logreg.score(X_dev, Y_dev)))"
   ]
  },
  {
   "cell_type": "code",
   "execution_count": 42,
   "metadata": {},
   "outputs": [
    {
     "name": "stdout",
     "output_type": "stream",
     "text": [
      "Accuracy is 0.62\n",
      "Precision is 0.63\n",
      "Recall is 0.55\n",
      "AUC is 0.62\n"
     ]
    }
   ],
   "source": [
    "Y_dev_predict = logreg.predict(X_dev)\n",
    "pd.crosstab(pd.Series(Y_dev, name = 'Actual'), pd.Series(Y_dev_predict, name = 'Predict'), margins = True)\n",
    "from sklearn.metrics import accuracy_score, precision_score, recall_score, roc_auc_score\n",
    "print(\"Accuracy is {0:.2f}\".format(accuracy_score(Y_dev, Y_dev_predict)))\n",
    "print(\"Precision is {0:.2f}\".format(precision_score(Y_dev, Y_dev_predict)))\n",
    "print(\"Recall is {0:.2f}\".format(recall_score(Y_dev, Y_dev_predict)))\n",
    "print(\"AUC is {0:.2f}\".format(roc_auc_score(Y_dev, Y_dev_predict)))"
   ]
  },
  {
   "cell_type": "code",
   "execution_count": 43,
   "metadata": {},
   "outputs": [],
   "source": [
    "######SMOTE for Decision Tree ########"
   ]
  },
  {
   "cell_type": "code",
   "execution_count": 44,
   "metadata": {},
   "outputs": [
    {
     "name": "stdout",
     "output_type": "stream",
     "text": [
      "Original dataset shape Counter({0: 61701, 1: 5984})\n",
      "New dataset shape Counter({0: 61701, 1: 61701})\n"
     ]
    }
   ],
   "source": [
    "from imblearn.over_sampling import SMOTE\n",
    "from collections import Counter\n",
    "print('Original dataset shape {}'.format(Counter(train_output)))\n",
    "smt = SMOTE(random_state=20)\n",
    "train_input_no_int_new, train_output_new = smt.fit_sample(train_input_no_int, train_output)\n",
    "print('New dataset shape {}'.format(Counter(train_output_new)))"
   ]
  },
  {
   "cell_type": "code",
   "execution_count": 45,
   "metadata": {},
   "outputs": [],
   "source": [
    "train_input_no_int_new= pd.DataFrame(train_input_no_int_new, columns = list(train_input_no_int.columns))\n",
    "X_train, X_dev, Y_train, Y_dev = train_test_split(train_input_no_int_new, train_output_new, test_size=0.20, random_state=0)"
   ]
  },
  {
   "cell_type": "code",
   "execution_count": 46,
   "metadata": {},
   "outputs": [
    {
     "name": "stdout",
     "output_type": "stream",
     "text": [
      "Cross Validation score: 91.99%\n",
      "Dev Set score: 92.18%\n"
     ]
    }
   ],
   "source": [
    "from sklearn.tree import DecisionTreeClassifier\n",
    "dte = DecisionTreeClassifier(max_depth=28, criterion = \"gini\", min_samples_split=10)\n",
    "print(\"Cross Validation score: {:.2%}\".format(np.mean(cross_val_score(dte, X_train, Y_train, cv=10))))\n",
    "dte.fit(X_train, Y_train)\n",
    "print(\"Dev Set score: {:.2%}\".format(dte.score(X_dev, Y_dev)))"
   ]
  },
  {
   "cell_type": "code",
   "execution_count": 47,
   "metadata": {},
   "outputs": [
    {
     "name": "stdout",
     "output_type": "stream",
     "text": [
      "Accuracy is 0.92\n",
      "Precision is 0.93\n",
      "Recall is 0.91\n",
      "AUC is 0.92\n"
     ]
    }
   ],
   "source": [
    "Y_dev_predict = dte.predict(X_dev)\n",
    "pd.crosstab(pd.Series(Y_dev, name = 'Actual'), pd.Series(Y_dev_predict, name = 'Predict'), margins = True)\n",
    "from sklearn.metrics import accuracy_score, precision_score, recall_score, roc_auc_score\n",
    "print(\"Accuracy is {0:.2f}\".format(accuracy_score(Y_dev, Y_dev_predict)))\n",
    "print(\"Precision is {0:.2f}\".format(precision_score(Y_dev, Y_dev_predict)))\n",
    "print(\"Recall is {0:.2f}\".format(recall_score(Y_dev, Y_dev_predict)))\n",
    "print(\"AUC is {0:.2f}\".format(roc_auc_score(Y_dev, Y_dev_predict)))"
   ]
  },
  {
   "cell_type": "code",
   "execution_count": 48,
   "metadata": {},
   "outputs": [
    {
     "data": {
      "image/png": "[encoded data removed]",
      "text/plain": [
       "<IPython.core.display.Image object>"
      ]
     },
     "execution_count": 48,
     "metadata": {},
     "output_type": "execute_result"
    }
   ],
   "source": [
    "import graphviz\n",
    "from IPython.display import Image\n",
    "import pydotplus\n",
    "from sklearn import tree\n",
    "dot_dt_q2 = tree.export_graphviz(dte, out_file=\"dt_q2.dot\", feature_names=X_train.columns, max_depth=2, class_names=[\"No\",\"Readm\"], filled=True, rounded=True, special_characters=True)\n",
    "graph_dt_q2 = pydotplus.graph_from_dot_file('dt_q2.dot')\n",
    "Image(graph_dt_q2.create_png())"
   ]
  },
  {
   "cell_type": "code",
   "execution_count": 49,
   "metadata": {},
   "outputs": [
    {
     "data": {
      "image/png": "[encoded data removed]",
      "text/plain": [
       "<matplotlib.figure.Figure at 0x7f0760046198>"
      ]
     },
     "metadata": {},
     "output_type": "display_data"
    }
   ],
   "source": [
    "feature_names = X_train.columns\n",
    "feature_imports = dte.feature_importances_\n",
    "most_imp_features = pd.DataFrame([f for f in zip(feature_names,feature_imports)], columns=[\"Feature\", \"Importance\"]).nlargest(10, \"Importance\")\n",
    "most_imp_features.sort_values(by=\"Importance\", inplace=True)\n",
    "plt.figure(figsize=(10,6))\n",
    "plt.barh(range(len(most_imp_features)), most_imp_features.Importance, align='center', alpha=0.8)\n",
    "plt.yticks(range(len(most_imp_features)), most_imp_features.Feature, fontsize=14)\n",
    "plt.xlabel('Importance')\n",
    "plt.title('Most important features - Decision Tree (gini)')\n",
    "plt.show()"
   ]
  },
  {
   "cell_type": "code",
   "execution_count": 50,
   "metadata": {},
   "outputs": [],
   "source": [
    "##################Random Forest#####################"
   ]
  },
  {
   "cell_type": "code",
   "execution_count": 51,
   "metadata": {},
   "outputs": [
    {
     "name": "stdout",
     "output_type": "stream",
     "text": [
      "Cross Validation score: 94.89%\n",
      "Dev Set score: 95.14%\n"
     ]
    }
   ],
   "source": [
    "from sklearn.ensemble import RandomForestClassifier\n",
    "rdf = RandomForestClassifier(max_depth=28, criterion = \"gini\", min_samples_split=10)\n",
    "print(\"Cross Validation score: {:.2%}\".format(np.mean(cross_val_score(rdf, X_train, Y_train, cv=10))))\n",
    "rdf.fit(X_train, Y_train)\n",
    "print(\"Dev Set score: {:.2%}\".format(rdf.score(X_dev, Y_dev)))"
   ]
  },
  {
   "cell_type": "code",
   "execution_count": 52,
   "metadata": {},
   "outputs": [
    {
     "name": "stdout",
     "output_type": "stream",
     "text": [
      "Accuracy is 0.95\n",
      "Precision is 1.00\n",
      "Recall is 0.90\n",
      "AUC is 0.95\n"
     ]
    }
   ],
   "source": [
    "Y_dev_predict = rdf.predict(X_dev)\n",
    "pd.crosstab(pd.Series(Y_dev, name = 'Actual'), pd.Series(Y_dev_predict, name = 'Predict'), margins = True)\n",
    "from sklearn.metrics import accuracy_score, precision_score, recall_score, roc_auc_score\n",
    "print(\"Accuracy is {0:.2f}\".format(accuracy_score(Y_dev, Y_dev_predict)))\n",
    "print(\"Precision is {0:.2f}\".format(precision_score(Y_dev, Y_dev_predict)))\n",
    "print(\"Recall is {0:.2f}\".format(recall_score(Y_dev, Y_dev_predict)))\n",
    "print(\"AUC is {0:.2f}\".format(roc_auc_score(Y_dev, Y_dev_predict)))"
   ]
  },
  {
   "cell_type": "code",
   "execution_count": 53,
   "metadata": {},
   "outputs": [
    {
     "data": {
      "image/png": "[encoded data removed]",
      "text/plain": [
       "<matplotlib.figure.Figure at 0x7f0762186c50>"
      ]
     },
     "metadata": {},
     "output_type": "display_data"
    }
   ],
   "source": [
    "# Shot top most features based on importance\n",
    "feature_names = X_train.columns\n",
    "feature_imports = rdf.feature_importances_\n",
    "most_imp_features = pd.DataFrame([f for f in zip(feature_names,feature_imports)], columns=[\"Feature\", \"Importance\"]).nlargest(10, \"Importance\")\n",
    "most_imp_features.sort_values(by=\"Importance\", inplace=True)\n",
    "plt.figure(figsize=(10,6))\n",
    "plt.barh(range(len(most_imp_features)), most_imp_features.Importance, align='center', alpha=0.8)\n",
    "plt.yticks(range(len(most_imp_features)), most_imp_features.Feature, fontsize=14)\n",
    "plt.xlabel('Importance')\n",
    "plt.title('Most important features - Random Forest (gini)')\n",
    "plt.show()"
   ]
  },
  {
   "cell_type": "code",
   "execution_count": null,
   "metadata": {},
   "outputs": [],
   "source": []
  }
 ],
 "metadata": {
  "kernelspec": {
   "display_name": "Python 3",
   "language": "python",
   "name": "python3"
  },
  "language_info": {
   "codemirror_mode": {
    "name": "ipython",
    "version": 3
   },
   "file_extension": ".py",
   "mimetype": "text/x-python",
   "name": "python",
   "nbconvert_exporter": "python",
   "pygments_lexer": "ipython3",
   "version": "3.6.4"
  }
 },
 "nbformat": 4,
 "nbformat_minor": 2
}
